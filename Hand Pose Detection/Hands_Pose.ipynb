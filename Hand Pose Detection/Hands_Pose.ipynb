{
 "cells": [
  {
   "cell_type": "code",
   "execution_count": 3,
   "metadata": {},
   "outputs": [],
   "source": [
    "import mediapipe as mp\n",
    "import numpy as np\n",
    "import cv2\n",
    "import uuid\n",
    "import os\n"
   ]
  },
  {
   "cell_type": "code",
   "execution_count": null,
   "metadata": {},
   "outputs": [],
   "source": []
  },
  {
   "cell_type": "code",
   "execution_count": 4,
   "metadata": {},
   "outputs": [],
   "source": [
    "mp_drawing=mp.solutions.drawing_utils\n",
    "mpPose=mp.solutions.pose\n",
    "pose=mpPose.Pose()\n",
    "mp_hands=mp.solutions.hands\n",
    "joint_list=[[4,3,2],[8,7,6],[12,11,10],[16,15,14],[20,19,18]]"
   ]
  },
  {
   "cell_type": "code",
   "execution_count": 5,
   "metadata": {},
   "outputs": [],
   "source": [
    "def getLabel(index,hand,results):\n",
    "    output=None\n",
    "    for idx,classification in enumerate(results.multi_handedness):\n",
    "        \n",
    "        if classification.classification[0].index==index:\n",
    "            label=classification.classification[0].label\n",
    "            score=classification.classification[0].score\n",
    "            text='{} {}'.format(label,round(score,2))\n",
    "            \n",
    "            coords=tuple(np.multiply(\n",
    "                np.array((hand.landmark[mp_hands.HandLandmark.WRIST].x,hand.landmark[mp_hands.HandLandmark.WRIST].y)),\n",
    "                [640,480]).astype(int)\n",
    "            )\n",
    "            output=text,coords\n",
    "    return output\n",
    "        "
   ]
  },
  {
   "cell_type": "code",
   "execution_count": 6,
   "metadata": {},
   "outputs": [],
   "source": [
    "def draw_angles(image,results,joint_list):\n",
    "    for hand in results.multi_hand_landmarks:\n",
    "        for joint in joint_list:\n",
    "            a=np.array([hand.landmark[joint[0]].x,hand.landmark[joint[0]].y])\n",
    "            b=np.array([hand.landmark[joint[1]].x,hand.landmark[joint[1]].y])\n",
    "            c=np.array([hand.landmark[joint[2]].x,hand.landmark[joint[2]].y])\n",
    "            radians=np.arctan2(c[1]-b[1],c[0]-b[0])-np.arctan2(a[1]-b[1],a[0]-b[0])\n",
    "            angle=np.abs(radians*180.0/np.pi)\n",
    "            \n",
    "            if angle>180.0:\n",
    "                angle=360-angle\n",
    "            cv2.putText(image,str(round(angle,2)),tuple(np.multiply(b,[640,480]).astype(int)),\n",
    "                       cv2.FONT_HERSHEY_SIMPLEX,0.5,(190,190,190),2,cv2.LINE_AA)\n",
    "    return image\n",
    "            "
   ]
  },
  {
   "cell_type": "code",
   "execution_count": null,
   "metadata": {},
   "outputs": [],
   "source": []
  },
  {
   "cell_type": "code",
   "execution_count": 8,
   "metadata": {},
   "outputs": [],
   "source": [
    "cap=cv2.VideoCapture(0)\n",
    "\n",
    "with mp_hands.Hands(min_detection_confidence=0.8,min_tracking_confidence=0.5,max_num_hands=4) as hands:\n",
    "    while cap.isOpened():\n",
    "        ret,frame=cap.read()\n",
    "        image=cv2.cvtColor(frame,cv2.COLOR_BGR2RGB)\n",
    "        image=cv2.flip(image,1)\n",
    "        image.flags.writeable=False\n",
    "        results=hands.process(image) \n",
    "        #res=poses.process(image)\n",
    "        image.flags.writeable=True\n",
    "        image=cv2.cvtColor(image,cv2.COLOR_RGB2BGR)\n",
    "        #print(results.multi_hand_landmarks)\n",
    "        if results.multi_hand_landmarks:\n",
    "            for num,hand in enumerate(results.multi_hand_landmarks):\n",
    "                mp_drawing.draw_landmarks(image,hand,mp_hands.HAND_CONNECTIONS,\n",
    "                                          mp_drawing.DrawingSpec(color=(180,180,180),thickness=2,circle_radius=2),\n",
    "                                          mp_drawing.DrawingSpec(color=(180,180,180),thickness=2,circle_radius=2),\n",
    "                                         )\n",
    "                if getLabel(num,hand,results):\n",
    "                    text,coord=getLabel(num,hand,results)\n",
    "                    cv2.putText(image,text,coord,cv2.FONT_HERSHEY_DUPLEX,1,(190,190,190),2,cv2.LINE_AA)\n",
    "            draw_angles(image,results,joint_list)\n",
    "        '''\n",
    "        if res.pose_landmarks:\n",
    "            for num,p in enumerate(res.pose_landmarks):\n",
    "                mp_drawing.draw_landmarks(image,p,mpPose.POSE_CONNECTIONS,\n",
    "                                          mp_drawing.DrawingSpec(color=(180,180,180),thickness=2,circle_radius=2),\n",
    "                                          mp_drawing.DrawingSpec(color=(180,180,180),thickness=2,circle_radius=2),\n",
    "                                         )\n",
    "        '''\n",
    "        #cv2.imwrite(os.path.join('Hands Output','{}.jpg'.format(uuid.uuid1())),image)\n",
    "        cv2.imshow('Tracking',image)  \n",
    "        \n",
    "    \n",
    "        if cv2.waitKey(1) & 0xFF==ord('q'):\n",
    "            break\n",
    "        \n",
    "cap.release()\n",
    "cv2.destroyAllWindows()"
   ]
  },
  {
   "cell_type": "code",
   "execution_count": null,
   "metadata": {},
   "outputs": [],
   "source": []
  }
 ],
 "metadata": {
  "kernelspec": {
   "display_name": "Python 3",
   "language": "python",
   "name": "python3"
  },
  "language_info": {
   "codemirror_mode": {
    "name": "ipython",
    "version": 3
   },
   "file_extension": ".py",
   "mimetype": "text/x-python",
   "name": "python",
   "nbconvert_exporter": "python",
   "pygments_lexer": "ipython3",
   "version": "3.8.5"
  }
 },
 "nbformat": 4,
 "nbformat_minor": 4
}
