{
 "cells": [
  {
   "cell_type": "code",
   "execution_count": 1,
   "metadata": {},
   "outputs": [],
   "source": [
    "import mediapipe as mp\n",
    "import numpy as np\n",
    "import cv2\n",
    "import uuid\n",
    "import os\n"
   ]
  },
  {
   "cell_type": "code",
   "execution_count": 9,
   "metadata": {},
   "outputs": [],
   "source": [
    "mp_drawing=mp.solutions.drawing_utils\n",
    "mp_pose=mp.solutions.pose\n",
    "mp_mesh=mp.solutions.face_mesh\n",
    "mp_hands=mp.solutions.hands\n",
    "joint_list=[[4,3,2],[8,7,6],[12,11,10],[16,15,14],[20,19,18]]"
   ]
  },
  {
   "cell_type": "code",
   "execution_count": 3,
   "metadata": {},
   "outputs": [],
   "source": [
    "def getLabel(index,hand,results):\n",
    "    output=None\n",
    "    for idx,classification in enumerate(results.multi_handedness):\n",
    "        \n",
    "        if classification.classification[0].index==index:\n",
    "            label=classification.classification[0].label\n",
    "            score=classification.classification[0].score\n",
    "            text='{} {}'.format(label,round(score,2))\n",
    "            \n",
    "            coords=tuple(np.multiply(\n",
    "                np.array((hand.landmark[mp_hands.HandLandmark.WRIST].x,hand.landmark[mp_hands.HandLandmark.WRIST].y)),\n",
    "                [640,480]).astype(int)\n",
    "            )\n",
    "            output=text,coords\n",
    "    return output\n",
    "\n",
    "\n",
    "\n",
    "            "
   ]
  },
  {
   "cell_type": "code",
   "execution_count": 6,
   "metadata": {},
   "outputs": [],
   "source": []
  },
  {
   "cell_type": "code",
   "execution_count": 18,
   "metadata": {},
   "outputs": [],
   "source": [
    "\n",
    "cap=cv2.VideoCapture(0)\n",
    "with mp_mesh.FaceMesh(min_detection_confidence=0.8,max_num_faces=4) as facemesh:\n",
    "    with mp_hands.Hands(min_detection_confidence=0.8,min_tracking_confidence=0.5,max_num_hands=4) as hands:\n",
    "        with mp_pose.Pose(min_detection_confidence=0.8,min_tracking_confidence=0.5) as poses:\n",
    "        \n",
    "            while cap.isOpened():\n",
    "                ret,frame=cap.read()\n",
    "                image=cv2.cvtColor(frame,cv2.COLOR_BGR2RGB)\n",
    "                image=cv2.flip(image,1)\n",
    "                image.flags.writeable=False\n",
    "                results=facemesh.process(image) \n",
    "                res=hands.process(image)\n",
    "                r=poses.process(image)\n",
    "                image.flags.writeable=True\n",
    "                image=cv2.cvtColor(image,cv2.COLOR_RGB2BGR)\n",
    "                if r.pose_landmarks:\n",
    "                    mp_drawing.draw_landmarks(image,r.pose_landmarks,mp_pose.POSE_CONNECTIONS,\n",
    "                                              mp_drawing.DrawingSpec(color=(180,180,180),thickness=1,circle_radius=1),\n",
    "                                              mp_drawing.DrawingSpec(color=(180,180,180),thickness=1,circle_radius=1),\n",
    "                                             )\n",
    "                \n",
    "                \n",
    "                \n",
    "                if results.multi_face_landmarks:\n",
    "                    for num,face in enumerate(results.multi_face_landmarks):\n",
    "                        mp_drawing.draw_landmarks(image,face,mp_mesh.FACE_CONNECTIONS,\n",
    "                                                  mp_drawing.DrawingSpec(color=(180,180,180),thickness=1,circle_radius=1),\n",
    "                                                  mp_drawing.DrawingSpec(color=(180,180,180),thickness=1,circle_radius=1),\n",
    "                                                 )\n",
    "                \n",
    "                \n",
    "                if res.multi_hand_landmarks:\n",
    "                \n",
    "                    for num,hand in enumerate(res.multi_hand_landmarks):\n",
    "                        mp_drawing.draw_landmarks(image,hand,mp_hands.HAND_CONNECTIONS,\n",
    "                                                  mp_drawing.DrawingSpec(color=(190,190,190),thickness=2,circle_radius=2),\n",
    "                                                  mp_drawing.DrawingSpec(color=(190,190,190),thickness=2,circle_radius=2),\n",
    "                                                 )\n",
    "                        if getLabel(num,hand,res):\n",
    "                            text,coord=getLabel(num,hand,res)\n",
    "                            cv2.putText(image,text,coord,cv2.FONT_HERSHEY_DUPLEX,1,(190,190,190),2,cv2.LINE_AA)\n",
    "                #cv2.imwrite(os.path.join('Output','{}.jpg'.format(uuid.uuid1())),image)\n",
    "                cv2.imshow('Hand Tracking',image)  \n",
    "        \n",
    "    \n",
    "                if cv2.waitKey(1) & 0xFF==ord('q'):\n",
    "                    break\n",
    "        \n",
    "cap.release()\n",
    "cv2.destroyAllWindows()"
   ]
  },
  {
   "cell_type": "code",
   "execution_count": 14,
   "metadata": {},
   "outputs": [],
   "source": []
  },
  {
   "cell_type": "code",
   "execution_count": null,
   "metadata": {},
   "outputs": [],
   "source": []
  }
 ],
 "metadata": {
  "kernelspec": {
   "display_name": "Python 3",
   "language": "python",
   "name": "python3"
  },
  "language_info": {
   "codemirror_mode": {
    "name": "ipython",
    "version": 3
   },
   "file_extension": ".py",
   "mimetype": "text/x-python",
   "name": "python",
   "nbconvert_exporter": "python",
   "pygments_lexer": "ipython3",
   "version": "3.8.5"
  }
 },
 "nbformat": 4,
 "nbformat_minor": 4
}
